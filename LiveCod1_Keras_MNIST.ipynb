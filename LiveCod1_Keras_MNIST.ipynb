{
  "nbformat": 4,
  "nbformat_minor": 0,
  "metadata": {
    "colab": {
      "name": "LiveCod1_Keras_MNIST.ipynb",
      "provenance": [],
      "collapsed_sections": []
    },
    "kernelspec": {
      "name": "python3",
      "display_name": "Python 3"
    }
  },
  "cells": [
    {
      "cell_type": "markdown",
      "metadata": {
        "id": "p_VzG4xDchLF",
        "colab_type": "text"
      },
      "source": [
        "# Live Coding - Operações básicas em DL via Keras (Base MNIST)"
      ]
    },
    {
      "cell_type": "code",
      "metadata": {
        "id": "arOP6dyucxRo",
        "colab_type": "code",
        "colab": {}
      },
      "source": [
        "reset -fs"
      ],
      "execution_count": 0,
      "outputs": []
    },
    {
      "cell_type": "code",
      "metadata": {
        "id": "kKah0Sawc0A1",
        "colab_type": "code",
        "colab": {}
      },
      "source": [
        "import keras"
      ],
      "execution_count": 0,
      "outputs": []
    },
    {
      "cell_type": "code",
      "metadata": {
        "id": "4Qf54chxc46G",
        "colab_type": "code",
        "colab": {}
      },
      "source": [
        "# Qual é o nosso mecanismo de backend?"
      ],
      "execution_count": 0,
      "outputs": []
    },
    {
      "cell_type": "code",
      "metadata": {
        "id": "BX9WOwVXc5IV",
        "colab_type": "code",
        "outputId": "f7631113-c8b7-4454-ea9b-028e551bb4ce",
        "colab": {
          "base_uri": "https://localhost:8080/",
          "height": 34
        }
      },
      "source": [
        "keras.backend.backend()"
      ],
      "execution_count": 148,
      "outputs": [
        {
          "output_type": "execute_result",
          "data": {
            "text/plain": [
              "'tensorflow'"
            ]
          },
          "metadata": {
            "tags": []
          },
          "execution_count": 148
        }
      ]
    },
    {
      "cell_type": "markdown",
      "metadata": {
        "id": "9GbGrYdUeWiM",
        "colab_type": "text"
      },
      "source": [
        "TensorFlow:\n",
        "\n",
        "Um ótimo back-end;\n",
        "Uma arquitetura muito flexível que permite fazer praticamente qualquer operação numérica;\n",
        "Em seguida, implemente a computação em CPUs ou GPUs (uma ou mais) em desktops, nuvem ou dispositivos móveis."
      ]
    },
    {
      "cell_type": "markdown",
      "metadata": {
        "id": "R1XFgB-JedQ-",
        "colab_type": "text"
      },
      "source": [
        "# MNIST handwritten digit database: \n",
        "\n",
        "O “Hello World!” da Visão Computacional"
      ]
    },
    {
      "cell_type": "code",
      "metadata": {
        "id": "ghFtaGOAc5h1",
        "colab_type": "code",
        "colab": {}
      },
      "source": [
        "# Importando os dados"
      ],
      "execution_count": 0,
      "outputs": []
    },
    {
      "cell_type": "code",
      "metadata": {
        "id": "RIfeAM3tc5ud",
        "colab_type": "code",
        "colab": {}
      },
      "source": [
        "from keras.datasets import mnist"
      ],
      "execution_count": 0,
      "outputs": []
    },
    {
      "cell_type": "code",
      "metadata": {
        "id": "a33-Y5cGc569",
        "colab_type": "code",
        "colab": {}
      },
      "source": [
        "# Configurando nossos sets de terinamento e teste"
      ],
      "execution_count": 0,
      "outputs": []
    },
    {
      "cell_type": "code",
      "metadata": {
        "id": "aUz1BXFrc6Ik",
        "colab_type": "code",
        "colab": {}
      },
      "source": [
        "(x_train, y_train), (x_test, y_test) = mnist.load_data()"
      ],
      "execution_count": 0,
      "outputs": []
    },
    {
      "cell_type": "code",
      "metadata": {
        "id": "8u1VGzc8erV9",
        "colab_type": "code",
        "outputId": "9b0d372e-3606-4f12-cec4-70e5d5ecb493",
        "colab": {
          "base_uri": "https://localhost:8080/",
          "height": 265
        }
      },
      "source": [
        "from random import randint\n",
        "from matplotlib import pyplot\n",
        "\n",
        "%matplotlib inline\n",
        "\n",
        "# dica - inspecionar visualmente nossos dados\n",
        "i = randint(0, x_train.shape[0])\n",
        "pyplot.imshow(x_train[i], cmap='gray_r');"
      ],
      "execution_count": 153,
      "outputs": [
        {
          "output_type": "display_data",
          "data": {
            "image/png": "[encoded data removed]",
            "text/plain": [
              "<Figure size 432x288 with 1 Axes>"
            ]
          },
          "metadata": {
            "tags": [],
            "needs_background": "light"
          }
        }
      ]
    },
    {
      "cell_type": "code",
      "metadata": {
        "id": "jseb1bpTergG",
        "colab_type": "code",
        "outputId": "daaa1aa1-8056-4c8e-cb0f-14f7662e3dd6",
        "colab": {
          "base_uri": "https://localhost:8080/",
          "height": 265
        }
      },
      "source": [
        "i = 27_011 #27_011 é um 1?\n",
        "pyplot.imshow(x_train[i], cmap='gray_r');"
      ],
      "execution_count": 154,
      "outputs": [
        {
          "output_type": "display_data",
          "data": {
            "image/png": "[encoded data removed]",
            "text/plain": [
              "<Figure size 432x288 with 1 Axes>"
            ]
          },
          "metadata": {
            "tags": [],
            "needs_background": "light"
          }
        }
      ]
    },
    {
      "cell_type": "markdown",
      "metadata": {
        "id": "fyW4M3F7ezS3",
        "colab_type": "text"
      },
      "source": [
        "Esse dígito é um 1?"
      ]
    },
    {
      "cell_type": "code",
      "metadata": {
        "id": "nX42xA8rerk1",
        "colab_type": "code",
        "outputId": "108aa3fc-53a8-4f8a-9b89-c8f46cef60f9",
        "colab": {
          "base_uri": "https://localhost:8080/",
          "height": 34
        }
      },
      "source": [
        "y_train[i]"
      ],
      "execution_count": 155,
      "outputs": [
        {
          "output_type": "execute_result",
          "data": {
            "text/plain": [
              "1"
            ]
          },
          "metadata": {
            "tags": []
          },
          "execution_count": 155
        }
      ]
    },
    {
      "cell_type": "markdown",
      "metadata": {
        "id": "Ihgja7gAfB0V",
        "colab_type": "text"
      },
      "source": [
        "# 1.\"Limpeza\" de dados\n",
        "\n",
        "Converter matriz de imagem em vetor para alimentar a primeira camada;"
      ]
    },
    {
      "cell_type": "code",
      "metadata": {
        "id": "2Q9cR5C4ern3",
        "colab_type": "code",
        "colab": {}
      },
      "source": [
        "# \"Limpeza\" de dados"
      ],
      "execution_count": 0,
      "outputs": []
    },
    {
      "cell_type": "code",
      "metadata": {
        "id": "8ppN5nlyerqp",
        "colab_type": "code",
        "colab": {}
      },
      "source": [
        "image_size = 784 # 28 x 28\n",
        "\n",
        "x_train = x_train.reshape(x_train.shape[0], image_size) # Transformando de matriz para vetor\n",
        "x_train = x_train.astype('float32') # Elencando como inteiros de 32 bits\n",
        "x_train /= 255 # Normalizando nossas entradas de 0-255 to 0.0-1.0\n",
        "\n",
        "x_test = x_test.reshape(x_test.shape[0], image_size) # Transformando de matriz para vetor\n",
        "x_test = x_test.astype('float32') # Elencando como inteiros de 32 bits\n",
        "x_test /= 255 # Normalize inputs from 0-255 to 0.0-1.0"
      ],
      "execution_count": 0,
      "outputs": []
    },
    {
      "cell_type": "markdown",
      "metadata": {
        "id": "HAekfhJ6fKo_",
        "colab_type": "text"
      },
      "source": [
        "# 2.Converter vetores de classes em matrizes de classes binárias"
      ]
    },
    {
      "cell_type": "code",
      "metadata": {
        "id": "wRkglQIIerwC",
        "colab_type": "code",
        "colab": {}
      },
      "source": [
        "y_train = keras.utils.to_categorical(y_train, 10)\n",
        "y_test = keras.utils.to_categorical(y_test, 10)"
      ],
      "execution_count": 0,
      "outputs": []
    },
    {
      "cell_type": "markdown",
      "metadata": {
        "id": "EtTComfXfdHe",
        "colab_type": "text"
      },
      "source": [
        "# 3.Importar o tipo mais comum de rede neural\n"
      ]
    },
    {
      "cell_type": "code",
      "metadata": {
        "id": "ILJab01QerzD",
        "colab_type": "code",
        "colab": {}
      },
      "source": [
        "from keras.models import Sequential #Também pode-se instanciar outros modelos - Referência: https://keras.io/models/model/"
      ],
      "execution_count": 0,
      "outputs": []
    },
    {
      "cell_type": "markdown",
      "metadata": {
        "id": "z4cXkTVTgCDq",
        "colab_type": "text"
      },
      "source": [
        "# 4.Definir instância do modelo\n"
      ]
    },
    {
      "cell_type": "code",
      "metadata": {
        "id": "dYF1ETQRgGD1",
        "colab_type": "code",
        "colab": {}
      },
      "source": [
        "model = Sequential()"
      ],
      "execution_count": 0,
      "outputs": []
    },
    {
      "cell_type": "markdown",
      "metadata": {
        "id": "J9NQOEk-gINy",
        "colab_type": "text"
      },
      "source": [
        "# 5.Importando o tipo mais comum de camada de rede, totalmente interconectada (Dense - fully connected)\n"
      ]
    },
    {
      "cell_type": "code",
      "metadata": {
        "id": "VcIZoM5KgNDJ",
        "colab_type": "code",
        "colab": {}
      },
      "source": [
        "from keras.layers import Dense # Referência: https://keras.io/layers/"
      ],
      "execution_count": 0,
      "outputs": []
    },
    {
      "cell_type": "markdown",
      "metadata": {
        "id": "wU5SnXkbgVHb",
        "colab_type": "text"
      },
      "source": [
        "# 6.Definir camada de entrada\n"
      ]
    },
    {
      "cell_type": "code",
      "metadata": {
        "id": "X7PgKWnkgYEz",
        "colab_type": "code",
        "colab": {}
      },
      "source": [
        "layer_input = Dense(units=512,            # Número de nós\n",
        "                    activation='sigmoid', # Não linearidade\n",
        "                    input_shape=(image_size,)) \n",
        "model.add(layer_input)"
      ],
      "execution_count": 0,
      "outputs": []
    },
    {
      "cell_type": "markdown",
      "metadata": {
        "id": "IJMcz-HygeDo",
        "colab_type": "text"
      },
      "source": [
        "# 7.Definindo outra camada"
      ]
    },
    {
      "cell_type": "code",
      "metadata": {
        "id": "vxeOxVVigfAW",
        "colab_type": "code",
        "colab": {}
      },
      "source": [
        "model.add(Dense(units=512, activation='sigmoid'))"
      ],
      "execution_count": 0,
      "outputs": []
    },
    {
      "cell_type": "markdown",
      "metadata": {
        "id": "3TMyUi5Rgiar",
        "colab_type": "text"
      },
      "source": [
        "# 8.Definindo camadas de saída"
      ]
    },
    {
      "cell_type": "code",
      "metadata": {
        "id": "OHIEm1DJgtm4",
        "colab_type": "code",
        "colab": {}
      },
      "source": [
        "layer_output = Dense(units=10,             # Número de dígitos (0-9)\n",
        "                     activation='softmax') # Converter ativação neural em probabilidade de categoria\n",
        "\n",
        "model.add(layer_output)"
      ],
      "execution_count": 0,
      "outputs": []
    },
    {
      "cell_type": "markdown",
      "metadata": {
        "id": "2nCpYtrngxuh",
        "colab_type": "text"
      },
      "source": [
        "# 9.Sumário da arquitetura utilizada"
      ]
    },
    {
      "cell_type": "code",
      "metadata": {
        "id": "zyHbLkjdgzeu",
        "colab_type": "code",
        "outputId": "f59e58df-0478-44d2-b1dd-71bf7ad371b4",
        "colab": {
          "base_uri": "https://localhost:8080/",
          "height": 255
        }
      },
      "source": [
        "model.summary()"
      ],
      "execution_count": 165,
      "outputs": [
        {
          "output_type": "stream",
          "text": [
            "Model: \"sequential_7\"\n",
            "_________________________________________________________________\n",
            "Layer (type)                 Output Shape              Param #   \n",
            "=================================================================\n",
            "dense_19 (Dense)             (None, 512)               401920    \n",
            "_________________________________________________________________\n",
            "dense_20 (Dense)             (None, 512)               262656    \n",
            "_________________________________________________________________\n",
            "dense_21 (Dense)             (None, 10)                5130      \n",
            "=================================================================\n",
            "Total params: 669,706\n",
            "Trainable params: 669,706\n",
            "Non-trainable params: 0\n",
            "_________________________________________________________________\n"
          ],
          "name": "stdout"
        }
      ]
    },
    {
      "cell_type": "markdown",
      "metadata": {
        "id": "RV2QfZ1Zg5ic",
        "colab_type": "text"
      },
      "source": [
        "# 10.Adicionando parâmetros de treinamento a arquitetura\n"
      ]
    },
    {
      "cell_type": "code",
      "metadata": {
        "id": "2cJIVyYRg84a",
        "colab_type": "code",
        "colab": {}
      },
      "source": [
        "# Dica - muitas vezes é boa prática compilar o modelo antes de executá-lo\n",
        "model.compile(loss='categorical_crossentropy', \n",
        "              optimizer='sgd',\n",
        "              metrics=['accuracy'])"
      ],
      "execution_count": 0,
      "outputs": []
    },
    {
      "cell_type": "markdown",
      "metadata": {
        "id": "vPBmHYX9hAvC",
        "colab_type": "text"
      },
      "source": [
        "# 11.Treinando o modelo para aprender os pesos\n",
        "\n",
        "---\n",
        "\n",
        "\n"
      ]
    },
    {
      "cell_type": "code",
      "metadata": {
        "id": "C7pFjIBwhFMr",
        "colab_type": "code",
        "outputId": "2ffe2cbb-ce87-4a54-9eb6-c77872861ea3",
        "colab": {
          "base_uri": "https://localhost:8080/",
          "height": 204
        }
      },
      "source": [
        "training = model.fit(x_train, \n",
        "                     y_train,\n",
        "                     epochs=5, # Número de \"passos\" no dataset completo\n",
        "                     verbose=True, \n",
        "                     validation_split=0.1)"
      ],
      "execution_count": 167,
      "outputs": [
        {
          "output_type": "stream",
          "text": [
            "Train on 54000 samples, validate on 6000 samples\n",
            "Epoch 1/5\n",
            "54000/54000 [==============================] - 12s 221us/step - loss: 2.1529 - accuracy: 0.3246 - val_loss: 1.9000 - val_accuracy: 0.5633\n",
            "Epoch 2/5\n",
            "54000/54000 [==============================] - 12s 222us/step - loss: 1.5075 - accuracy: 0.6526 - val_loss: 1.0795 - val_accuracy: 0.7897\n",
            "Epoch 3/5\n",
            "54000/54000 [==============================] - 12s 217us/step - loss: 0.9066 - accuracy: 0.7802 - val_loss: 0.6789 - val_accuracy: 0.8463\n",
            "Epoch 4/5\n",
            "54000/54000 [==============================] - 12s 217us/step - loss: 0.6597 - accuracy: 0.8278 - val_loss: 0.5201 - val_accuracy: 0.8692\n",
            "Epoch 5/5\n",
            "54000/54000 [==============================] - 12s 215us/step - loss: 0.5459 - accuracy: 0.8522 - val_loss: 0.4369 - val_accuracy: 0.8898\n"
          ],
          "name": "stdout"
        }
      ]
    },
    {
      "cell_type": "markdown",
      "metadata": {
        "id": "HAsfBRWohfQ6",
        "colab_type": "text"
      },
      "source": [
        "# 12.Avaliação de performance do nosso modelo\n"
      ]
    },
    {
      "cell_type": "code",
      "metadata": {
        "id": "JsXVccG3hhgS",
        "colab_type": "code",
        "outputId": "903be6a5-6807-4622-f4b9-976692aabc6c",
        "colab": {
          "base_uri": "https://localhost:8080/",
          "height": 68
        }
      },
      "source": [
        "loss, accuracy = model.evaluate(x_test, \n",
        "                                y_test, \n",
        "                                verbose=True)\n",
        "print(f\"Perda teste: {loss:.3}\")\n",
        "print(f\"Acurácia teste: {accuracy:.3%}\")"
      ],
      "execution_count": 168,
      "outputs": [
        {
          "output_type": "stream",
          "text": [
            "10000/10000 [==============================] - 1s 63us/step\n",
            "Perda teste: 0.485\n",
            "Acurácia teste: 86.900%\n"
          ],
          "name": "stdout"
        }
      ]
    }
  ]
}