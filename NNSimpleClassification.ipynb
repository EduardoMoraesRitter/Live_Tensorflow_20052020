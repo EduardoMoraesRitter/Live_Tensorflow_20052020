{
  "nbformat": 4,
  "nbformat_minor": 0,
  "metadata": {
    "colab": {
      "name": "NNSimpleClassification.ipynb",
      "provenance": []
    },
    "kernelspec": {
      "name": "python3",
      "display_name": "Python 3"
    }
  },
  "cells": [
    {
      "cell_type": "markdown",
      "metadata": {
        "id": "u0IWPxSEh4zE",
        "colab_type": "text"
      },
      "source": [
        "# Modelo de classificação simpels - Functional AP"
      ]
    },
    {
      "cell_type": "markdown",
      "metadata": {
        "id": "-0HOuAv2iDzi",
        "colab_type": "text"
      },
      "source": [
        "Neste exemplo vamos realizar a classificação de imagens com o módulo Functional API do tf2\n",
        "\n",
        "O Functional API permete criar modelos com mais flexibilidade que o módulo Sequential. Como topologias não lineares, pesos compartilhados, por exemplo, possibilitando criar Redes Siamesas, GANs, dentre outros"
      ]
    },
    {
      "cell_type": "code",
      "metadata": {
        "id": "kqQtarGdwUOc",
        "colab_type": "code",
        "colab": {}
      },
      "source": [
        "import tensorflow as tf\n",
        "import numpy as np\n",
        "import matplotlib.pyplot as plt"
      ],
      "execution_count": 0,
      "outputs": []
    },
    {
      "cell_type": "markdown",
      "metadata": {
        "id": "be3AIYvKjUQ_",
        "colab_type": "text"
      },
      "source": [
        "Neste exemplo vamos utilizar o dataset Fashion Mnist, um dataset de peça de roupas que herda parte do nome do clássifo Mnist de números escritos a mão.\n",
        "\n",
        "O dataset está disponível nas bibliotecas do tensorflow, já no formato de dataset do TF"
      ]
    },
    {
      "cell_type": "code",
      "metadata": {
        "id": "c9evo1QLwbTc",
        "colab_type": "code",
        "colab": {}
      },
      "source": [
        "fashion_mnist = tf.keras.datasets.fashion_mnist\n",
        "\n",
        "(train_images, train_labels), (test_images, test_labels) = fashion_mnist.load_data()"
      ],
      "execution_count": 0,
      "outputs": []
    },
    {
      "cell_type": "code",
      "metadata": {
        "id": "SR3dVI87zoq0",
        "colab_type": "code",
        "outputId": "f41e5dbe-f610-43b8-c940-d17dfc59ca4f",
        "colab": {
          "base_uri": "https://localhost:8080/",
          "height": 34
        }
      },
      "source": [
        "train_images.shape"
      ],
      "execution_count": 4,
      "outputs": [
        {
          "output_type": "execute_result",
          "data": {
            "text/plain": [
              "(60000, 28, 28)"
            ]
          },
          "metadata": {
            "tags": []
          },
          "execution_count": 4
        }
      ]
    },
    {
      "cell_type": "code",
      "metadata": {
        "id": "3jKE2AfwkP2b",
        "colab_type": "code",
        "outputId": "4e48c7bb-f1c7-47d3-f350-fcc1c390c3d0",
        "colab": {
          "base_uri": "https://localhost:8080/",
          "height": 34
        }
      },
      "source": [
        "test_images.shape"
      ],
      "execution_count": 5,
      "outputs": [
        {
          "output_type": "execute_result",
          "data": {
            "text/plain": [
              "(10000, 28, 28)"
            ]
          },
          "metadata": {
            "tags": []
          },
          "execution_count": 5
        }
      ]
    },
    {
      "cell_type": "code",
      "metadata": {
        "id": "VZHl02WJwfGs",
        "colab_type": "code",
        "outputId": "c12feaa7-3d1a-487d-d8d9-7702c38dc3e9",
        "colab": {
          "base_uri": "https://localhost:8080/",
          "height": 34
        }
      },
      "source": [
        "train_labels"
      ],
      "execution_count": 6,
      "outputs": [
        {
          "output_type": "execute_result",
          "data": {
            "text/plain": [
              "array([9, 0, 0, ..., 3, 0, 5], dtype=uint8)"
            ]
          },
          "metadata": {
            "tags": []
          },
          "execution_count": 6
        }
      ]
    },
    {
      "cell_type": "code",
      "metadata": {
        "id": "sZ72RqQTAenw",
        "colab_type": "code",
        "colab": {}
      },
      "source": [
        "class_names = ['T-shirt/top', 'Trouser', 'Pullover', 'Dress', 'Coat',\n",
        "               'Sandal', 'Shirt', 'Sneaker', 'Bag', 'Ankle boot']"
      ],
      "execution_count": 0,
      "outputs": []
    },
    {
      "cell_type": "markdown",
      "metadata": {
        "id": "sq2rFkxRwwnN",
        "colab_type": "text"
      },
      "source": [
        "O dataset possui 60 mil exemplos de treino e 10 mil exemplos de teste divididos em 10 classes. As classes estão já representadas numericamente, e cada label representa:\n",
        "\n",
        "* 0\tCamisetas/Top (T-shirt/top)\n",
        "* 1\tCalça (Trouser)\n",
        "* 2\tSuéter (Pullover)\n",
        "* 3\tVestidos (Dress)\n",
        "* 4\tCasaco (Coat)\n",
        "* 5\tSandálias (Sandal)\n",
        "* 6\tCamisas (Shirt)\n",
        "* 7\tTênis (Sneaker)\n",
        "* 8\tBolsa (Bag)\n",
        "* 9\tBotas (Ankle boot)\n"
      ]
    },
    {
      "cell_type": "code",
      "metadata": {
        "id": "HhN6obUe-wbA",
        "colab_type": "code",
        "colab": {}
      },
      "source": [
        "#Função auxiliar para plotar imagem\n",
        "\n",
        "def plot_img(img):\n",
        "  plt.figure()\n",
        "  plt.imshow(img, cmap=plt.cm.binary)\n",
        "  plt.colorbar()\n",
        "  plt.grid(False)\n",
        "  plt.show()"
      ],
      "execution_count": 0,
      "outputs": []
    },
    {
      "cell_type": "code",
      "metadata": {
        "id": "LTJ78icewo03",
        "colab_type": "code",
        "outputId": "946fb47c-d036-4259-a4e8-2a2c29e8d966",
        "colab": {
          "base_uri": "https://localhost:8080/",
          "height": 265
        }
      },
      "source": [
        "plot_img(train_images[0])"
      ],
      "execution_count": 9,
      "outputs": [
        {
          "output_type": "display_data",
          "data": {
            "image/png": "[encoded data removed]",
            "text/plain": [
              "<Figure size 432x288 with 2 Axes>"
            ]
          },
          "metadata": {
            "tags": [],
            "needs_background": "light"
          }
        }
      ]
    },
    {
      "cell_type": "markdown",
      "metadata": {
        "id": "hnCSa56Gkt5B",
        "colab_type": "text"
      },
      "source": [
        "Um passo importante para um treinamento estável é normalizar os daos para que tenham o valores entre 0 e 1. Como nas imagens do nosso dataset os pixels possuem valor de 0 a 255, basta dividir tudo por 255"
      ]
    },
    {
      "cell_type": "code",
      "metadata": {
        "id": "DKFMlvPPxojs",
        "colab_type": "code",
        "colab": {}
      },
      "source": [
        "train_images = train_images / 255.0\n",
        "test_images = test_images / 255.0"
      ],
      "execution_count": 0,
      "outputs": []
    },
    {
      "cell_type": "markdown",
      "metadata": {
        "id": "EvE6t3n0m4Zl",
        "colab_type": "text"
      },
      "source": [
        "## Criando e salvando um modelo"
      ]
    },
    {
      "cell_type": "markdown",
      "metadata": {
        "id": "hpR0r2z9lVjE",
        "colab_type": "text"
      },
      "source": [
        "No módulo *Sequential*, a rede é criada a partir de uma lista de *layers* colocadas em sequência.\n",
        "\n",
        "No Funcional API, cada *layer* é criada individualmente, e elas recebem como entrada saídas de outras *layers*. Isso proporciona mais maleabilidade, podendo uma saída ser entrada de duas camadas, propciando a criação de Redes Siamesas e Skip Conection"
      ]
    },
    {
      "cell_type": "code",
      "metadata": {
        "id": "V9Y_HRMrx11E",
        "colab_type": "code",
        "colab": {}
      },
      "source": [
        "def create_model(layers):\n",
        "  x_in = tf.keras.Input(shape=(28, 28))\n",
        "  x = tf.keras.layers.Flatten()(x_in)\n",
        "  \n",
        "  for i, layer_size in enumerate(layers):\n",
        "    x = tf.keras.layers.Dense(layer_size, activation='relu')(x)\n",
        "  \n",
        "  output = tf.keras.layers.Dense(10, activation='softmax')(x)\n",
        "  \n",
        "  model = tf.keras.Model(inputs=x_in, outputs=output)\n",
        "  model.compile(loss=tf.keras.losses.SparseCategoricalCrossentropy(),\n",
        "                optimizer='adam',\n",
        "                metrics=['accuracy'])\n",
        "  return model"
      ],
      "execution_count": 0,
      "outputs": []
    },
    {
      "cell_type": "code",
      "metadata": {
        "id": "MwEhXCFK13l9",
        "colab_type": "code",
        "colab": {}
      },
      "source": [
        "my_model = create_model([128, 128])"
      ],
      "execution_count": 0,
      "outputs": []
    },
    {
      "cell_type": "code",
      "metadata": {
        "id": "P9WXQEw_4CLb",
        "colab_type": "code",
        "outputId": "d13d917f-94b8-4a9b-d8bf-9ba401631a80",
        "colab": {
          "base_uri": "https://localhost:8080/",
          "height": 323
        }
      },
      "source": [
        "my_model.summary()"
      ],
      "execution_count": 17,
      "outputs": [
        {
          "output_type": "stream",
          "text": [
            "Model: \"model_2\"\n",
            "_________________________________________________________________\n",
            "Layer (type)                 Output Shape              Param #   \n",
            "=================================================================\n",
            "input_3 (InputLayer)         [(None, 28, 28)]          0         \n",
            "_________________________________________________________________\n",
            "flatten_2 (Flatten)          (None, 784)               0         \n",
            "_________________________________________________________________\n",
            "dense_7 (Dense)              (None, 128)               100480    \n",
            "_________________________________________________________________\n",
            "dense_8 (Dense)              (None, 128)               16512     \n",
            "_________________________________________________________________\n",
            "dense_9 (Dense)              (None, 10)                1290      \n",
            "=================================================================\n",
            "Total params: 118,282\n",
            "Trainable params: 118,282\n",
            "Non-trainable params: 0\n",
            "_________________________________________________________________\n"
          ],
          "name": "stdout"
        }
      ]
    },
    {
      "cell_type": "code",
      "metadata": {
        "id": "lRoDqHDj4iHQ",
        "colab_type": "code",
        "outputId": "e9844ed6-ff38-4b0e-a095-95fdc91f63c2",
        "colab": {
          "base_uri": "https://localhost:8080/",
          "height": 224
        }
      },
      "source": [
        "my_model.fit(x=train_images, y=train_labels, epochs=5)"
      ],
      "execution_count": 18,
      "outputs": [
        {
          "output_type": "stream",
          "text": [
            "Epoch 1/5\n",
            "1875/1875 [==============================] - 4s 2ms/step - loss: 0.4806 - accuracy: 0.8273\n",
            "Epoch 2/5\n",
            "1875/1875 [==============================] - 4s 2ms/step - loss: 0.3610 - accuracy: 0.8672\n",
            "Epoch 3/5\n",
            "1875/1875 [==============================] - 4s 2ms/step - loss: 0.3280 - accuracy: 0.8777\n",
            "Epoch 4/5\n",
            "1875/1875 [==============================] - 4s 2ms/step - loss: 0.3049 - accuracy: 0.8853\n",
            "Epoch 5/5\n",
            "1875/1875 [==============================] - 4s 2ms/step - loss: 0.2864 - accuracy: 0.8935\n"
          ],
          "name": "stdout"
        },
        {
          "output_type": "execute_result",
          "data": {
            "text/plain": [
              "<tensorflow.python.keras.callbacks.History at 0x7fc1013ab5f8>"
            ]
          },
          "metadata": {
            "tags": []
          },
          "execution_count": 18
        }
      ]
    },
    {
      "cell_type": "markdown",
      "metadata": {
        "id": "4f7bvcbVnCZU",
        "colab_type": "text"
      },
      "source": [
        "Teste do modelo"
      ]
    },
    {
      "cell_type": "code",
      "metadata": {
        "id": "pKXk0mR-4rxI",
        "colab_type": "code",
        "outputId": "e991dd21-4c48-4a0b-a152-01c10d6c7318",
        "colab": {
          "base_uri": "https://localhost:8080/",
          "height": 51
        }
      },
      "source": [
        "my_model.evaluate(test_images, test_labels)"
      ],
      "execution_count": 19,
      "outputs": [
        {
          "output_type": "stream",
          "text": [
            "313/313 [==============================] - 0s 1ms/step - loss: 0.3496 - accuracy: 0.8782\n"
          ],
          "name": "stdout"
        },
        {
          "output_type": "execute_result",
          "data": {
            "text/plain": [
              "[0.34964150190353394, 0.8781999945640564]"
            ]
          },
          "metadata": {
            "tags": []
          },
          "execution_count": 19
        }
      ]
    },
    {
      "cell_type": "code",
      "metadata": {
        "id": "1n-O77JB_DCj",
        "colab_type": "code",
        "outputId": "3fe86623-2616-41ae-918f-0efaeb61c739",
        "colab": {
          "base_uri": "https://localhost:8080/",
          "height": 34
        }
      },
      "source": [
        "img = test_images[0]\n",
        "img = (np.expand_dims(img,0))\n",
        "class_names[test_labels[0]]"
      ],
      "execution_count": 20,
      "outputs": [
        {
          "output_type": "execute_result",
          "data": {
            "text/plain": [
              "'Ankle boot'"
            ]
          },
          "metadata": {
            "tags": []
          },
          "execution_count": 20
        }
      ]
    },
    {
      "cell_type": "code",
      "metadata": {
        "id": "QfNWuXno-pDa",
        "colab_type": "code",
        "outputId": "e7fa1b6f-4e43-48dc-980e-6ec8e62b3726",
        "colab": {
          "base_uri": "https://localhost:8080/",
          "height": 269
        }
      },
      "source": [
        "plot_img(test_images[0])"
      ],
      "execution_count": 0,
      "outputs": [
        {
          "output_type": "display_data",
          "data": {
            "image/png": "[encoded data removed]",
            "text/plain": [
              "<Figure size 432x288 with 2 Axes>"
            ]
          },
          "metadata": {
            "tags": [],
            "needs_background": "light"
          }
        }
      ]
    },
    {
      "cell_type": "code",
      "metadata": {
        "id": "tvJml7E__iLV",
        "colab_type": "code",
        "outputId": "7ad79746-af43-460a-9271-2ddcf06cce60",
        "colab": {
          "base_uri": "https://localhost:8080/",
          "height": 68
        }
      },
      "source": [
        "preds = my_model.predict(img)\n",
        "preds"
      ],
      "execution_count": 21,
      "outputs": [
        {
          "output_type": "execute_result",
          "data": {
            "text/plain": [
              "array([[2.83658125e-07, 1.13725356e-07, 7.05855996e-08, 3.37629196e-08,\n",
              "        1.30173177e-07, 1.67762209e-03, 1.13686372e-06, 7.36160297e-03,\n",
              "        1.82294116e-07, 9.90958810e-01]], dtype=float32)"
            ]
          },
          "metadata": {
            "tags": []
          },
          "execution_count": 21
        }
      ]
    },
    {
      "cell_type": "markdown",
      "metadata": {
        "id": "Wbpf1Ua0nrm_",
        "colab_type": "text"
      },
      "source": [
        "Salvando o modelo treinado"
      ]
    },
    {
      "cell_type": "code",
      "metadata": {
        "id": "9JRkld5nAO5c",
        "colab_type": "code",
        "colab": {}
      },
      "source": [
        "my_model.save('fasion_mnist.h5')"
      ],
      "execution_count": 0,
      "outputs": []
    },
    {
      "cell_type": "code",
      "metadata": {
        "id": "U_NTtUGFBfhF",
        "colab_type": "code",
        "colab": {}
      },
      "source": [
        "loaded_models = tf.keras.models.load_model('fasion_mnist.h5')"
      ],
      "execution_count": 0,
      "outputs": []
    },
    {
      "cell_type": "code",
      "metadata": {
        "id": "xYRZteirBrcL",
        "colab_type": "code",
        "outputId": "52366623-608d-4277-aba9-c144e2d8d198",
        "colab": {
          "base_uri": "https://localhost:8080/",
          "height": 68
        }
      },
      "source": [
        "loaded_models.predict(img)"
      ],
      "execution_count": 24,
      "outputs": [
        {
          "output_type": "execute_result",
          "data": {
            "text/plain": [
              "array([[2.83658125e-07, 1.13725356e-07, 7.05855996e-08, 3.37629196e-08,\n",
              "        1.30173177e-07, 1.67762209e-03, 1.13686372e-06, 7.36160297e-03,\n",
              "        1.82294116e-07, 9.90958810e-01]], dtype=float32)"
            ]
          },
          "metadata": {
            "tags": []
          },
          "execution_count": 24
        }
      ]
    },
    {
      "cell_type": "code",
      "metadata": {
        "id": "ZVnxHiPaB0Mg",
        "colab_type": "code",
        "colab": {}
      },
      "source": [
        ""
      ],
      "execution_count": 0,
      "outputs": []
    }
  ]
}